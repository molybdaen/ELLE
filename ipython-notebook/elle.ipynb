{
 "cells": [
  {
   "cell_type": "code",
   "execution_count": 2,
   "metadata": {},
   "outputs": [],
   "source": [
    "import os\n",
    "import sys\n",
    "root = os.path.dirname(os.getcwd())\n",
    "sys.path.append(root)"
   ]
  },
  {
   "cell_type": "code",
   "execution_count": 3,
   "metadata": {},
   "outputs": [],
   "source": [
    "import time\n",
    "import numpy as np\n",
    "import cPickle\n",
    "from PIL import Image\n",
    "import matplotlib.pyplot as plt\n",
    "\n",
    "from ellearning.ELAlgorithm import Autoencoder\n",
    "from config import Config\n",
    "from utils import nnmath, utils"
   ]
  },
  {
   "cell_type": "markdown",
   "metadata": {},
   "source": [
    "load results for elastic and compound learning on MNIST"
   ]
  },
  {
   "cell_type": "code",
   "execution_count": 85,
   "metadata": {},
   "outputs": [
    {
     "name": "stdout",
     "output_type": "stream",
     "text": [
      "1\n",
      "14.5841798782\n",
      "4\n",
      "49.7702753235\n",
      "0.0854752206879\n",
      "0.200518270013\n",
      "0.0786222147032\n",
      "10\n",
      "7.04082798958\n",
      "2\n",
      "34.5341372913\n",
      "0.727810136821\n",
      "0.729787713057\n",
      "0.725901846466\n",
      "20\n",
      "7.05939912796\n",
      "2\n",
      "28.0680971751\n",
      "0.799407374207\n",
      "0.798931400654\n",
      "0.797875665155\n",
      "30\n",
      "7.10505509377\n",
      "2\n",
      "23.7372727894\n",
      "0.841265105272\n",
      "0.841220758976\n",
      "0.840928967931\n",
      "40\n",
      "7.30709719658\n",
      "2\n",
      "20.5234317471\n",
      "0.861585811368\n",
      "0.861080520381\n",
      "0.861001900468\n",
      "50\n",
      "7.41533112526\n",
      "2\n",
      "18.1747341435\n",
      "0.874212950166\n",
      "0.873326901548\n",
      "0.873470458677\n",
      "60\n",
      "7.32319426537\n",
      "2\n",
      "16.1580454593\n",
      "0.881601008717\n",
      "0.880852213072\n",
      "0.880981259036\n",
      "70\n",
      "7.41286897659\n",
      "2\n",
      "14.7274844325\n",
      "0.892855556203\n",
      "0.892188916814\n",
      "0.892313819329\n",
      "80\n",
      "7.26445126534\n",
      "2\n",
      "13.4313144165\n",
      "0.898106344354\n",
      "0.897400126092\n",
      "0.897514109785\n",
      "90\n",
      "6.92432594299\n",
      "2\n",
      "12.5713175834\n",
      "0.903881022892\n",
      "0.903105737878\n",
      "0.903254405135\n",
      "100\n",
      "6.98132514954\n",
      "2\n",
      "11.8529384924\n",
      "0.910732158831\n",
      "0.909970799591\n",
      "0.91017197856\n",
      "110\n",
      "7.00541996956\n",
      "2\n",
      "11.2379425891\n",
      "0.913495323502\n",
      "0.913040340034\n",
      "0.913129211797\n",
      "120\n",
      "7.07294821739\n",
      "2\n",
      "10.8035464453\n",
      "0.916759956032\n",
      "0.916188772723\n",
      "0.916363310867\n",
      "130\n",
      "6.99713921547\n",
      "2\n",
      "10.4335026978\n",
      "0.920409534722\n",
      "0.919840877891\n",
      "0.919983113732\n",
      "140\n",
      "6.988052845\n",
      "2\n",
      "10.1517625826\n",
      "0.921216580926\n",
      "0.920613652306\n",
      "0.92078101333\n",
      "150\n",
      "6.99591088295\n",
      "2\n",
      "10.0056260542\n",
      "0.921923295221\n",
      "0.921005320114\n",
      "0.92124735321\n",
      "160\n",
      "6.96154808998\n",
      "2\n",
      "9.84175685274\n",
      "0.924313496869\n",
      "0.923480981818\n",
      "0.923669089401\n",
      "170\n",
      "7.16262888908\n",
      "2\n",
      "9.73036328295\n",
      "0.925579376353\n",
      "0.924592694566\n",
      "0.924812753042\n",
      "180\n",
      "6.9536781311\n",
      "2\n",
      "9.65101116636\n",
      "0.926194307638\n",
      "0.924832918213\n",
      "0.925144629329\n",
      "190\n",
      "7.01346278191\n",
      "2\n",
      "9.57309349221\n",
      "0.926783781433\n",
      "0.925351801355\n",
      "0.925645340551\n",
      "200\n",
      "7.02404618263\n",
      "2\n",
      "9.44562384659\n",
      "0.92868341787\n",
      "0.927340207204\n",
      "0.92767028747\n"
     ]
    }
   ],
   "source": [
    "e_logs = cPickle.load(open(utils.get_full_path(Config.PATH_EVAL_ROOT, \"results-elastic-mnist-200.pkl\"), 'r'))\n",
    "layer_sizes, times, epochs, errors, pre, rec, f1 = [], [], [], [], [], [], []\n",
    "e_cum_time = 0.\n",
    "e_cum_times = []\n",
    "trained_sizes = sorted([int(k)+1 for k in e_logs])\n",
    "for k in trained_sizes:\n",
    "    node_index = str(k-1)\n",
    "    e_cum_time += sum(e_logs[node_index][Autoencoder.STR_TIMES])\n",
    "    if Autoencoder.STR_SCORES in e_logs[node_index]:\n",
    "        layer_sizes.append(k)\n",
    "        times.append(sum(e_logs[node_index][Autoencoder.STR_TIMES]))\n",
    "        e_cum_times.append(e_cum_time)\n",
    "        epochs.append(len(e_logs[node_index][Autoencoder.STR_TIMES]))\n",
    "        errors.append(e_logs[node_index][Autoencoder.STR_ERRORS][-1])\n",
    "        (prec, reca, f1s) = e_logs[node_index][Autoencoder.STR_SCORES]\n",
    "        pre.append(np.mean(prec))\n",
    "        rec.append(np.mean(reca))\n",
    "        f1.append(np.mean(f1s))"
   ]
  },
  {
   "cell_type": "code",
   "execution_count": 24,
   "metadata": {},
   "outputs": [
    {
     "data": {
      "text/plain": [
       "<matplotlib.legend.Legend at 0x10ac23b50>"
      ]
     },
     "execution_count": 24,
     "output_type": "execute_result",
     "metadata": {}
    },
    {
     "data": {
      "image/png": "[encoded data removed]"
     },
     "output_type": "display_data",
     "metadata": {}
    }
   ],
   "source": [
    "%matplotlib inline\n",
    "fig = plt.figure(2)\n",
    "axes = fig.add_axes([0.1, 0.1, 0.9, 0.9])\n",
    "(line,) = axes.step(layer_sizes, errors)\n",
    "axes.set_xlabel('Layer Size')\n",
    "axes.set_ylabel('Error')\n",
    "axes.set_title('Sum Squared Error')\n",
    "plt.setp(line, label='Elastic')\n",
    "axes.legend(loc='upper right')"
   ]
  },
  {
   "cell_type": "code",
   "execution_count": 89,
   "metadata": {},
   "outputs": [
    {
     "data": {
      "image/png": "[encoded data removed]"
     },
     "output_type": "display_data",
     "metadata": {}
    }
   ],
   "source": [
    "#times_integrated = []\n",
    "#cum_time = 0.\n",
    "#for time in times:\n",
    "#    cum_time += time\n",
    "#    times_integrated.append(cum_time)\n",
    "fig, axes = plt.subplots(nrows=1, ncols=2, figsize=(9,4))\n",
    "(line,) = axes[0].plot(layer_sizes, e_cum_times, 'o')\n",
    "axes[0].set_xlabel('Layer Size')\n",
    "axes[0].set_ylabel('Training Time [s]')\n",
    "axes[0].set_title('Total Training Time')\n",
    "axes[0].grid(True)\n",
    "plt.setp(line, label='Elastic')\n",
    "axes[0].legend(loc='lower right')\n",
    "\n",
    "(line,) = axes[1].plot(layer_sizes, times, 'o')\n",
    "axes[1].set_xlabel('Node Index')\n",
    "axes[1].set_ylabel('Training Time [s]')\n",
    "axes[1].set_title('Single Node Training Time')\n",
    "axes[1].grid(True)\n",
    "axes[1].set_ylim([0, 15])\n",
    "plt.setp(line, label='Elastic')\n",
    "axes[1].legend(loc='upper right')\n",
    "fig.tight_layout()"
   ]
  },
  {
   "cell_type": "code",
   "execution_count": 67,
   "metadata": {},
   "outputs": [
    {
     "data": {
      "text/plain": [
       "<matplotlib.legend.Legend at 0x110d3e5d0>"
      ]
     },
     "execution_count": 67,
     "output_type": "execute_result",
     "metadata": {}
    },
    {
     "data": {
      "image/png": "[encoded data removed]"
     },
     "output_type": "display_data",
     "metadata": {}
    }
   ],
   "source": [
    "fig = plt.figure(4)\n",
    "axes = fig.add_axes([0.1, 0.1, 0.9, 0.9])\n",
    "(e_lpre,) = axes.plot(layer_sizes, pre, 'wo', label='Precision')\n",
    "(e_lrec,) = axes.plot(layer_sizes, rec, 'w^', label='Recall')\n",
    "(e_lf1,) = axes.plot(layer_sizes, f1, 'b.', label='F1-Score')\n",
    "#plt.setp(e_lpre, label='Precision (E)')\n",
    "#plt.setp(e_lrec, label='Recall (E)')\n",
    "#plt.setp(e_lf1, label='F1 (E)')\n",
    "axes.grid(True, which=\"both\")\n",
    "axes.set_title(\"MNIST 10-Digit Classification\")\n",
    "axes.set_xlabel('Hidden Nodes')\n",
    "axes.set_ylabel('Mean Classification Scores')\n",
    "axes.legend(loc='lower right')"
   ]
  },
  {
   "cell_type": "code",
   "execution_count": 84,
   "metadata": {},
   "outputs": [
    {
     "data": {
      "text/plain": [
       "<matplotlib.legend.Legend at 0x111c3cfd0>"
      ]
     },
     "execution_count": 84,
     "output_type": "execute_result",
     "metadata": {}
    },
    {
     "data": {
      "image/png": "[encoded data removed]"
     },
     "output_type": "display_data",
     "metadata": {}
    }
   ],
   "source": [
    "n_groups = 10\n",
    "fig, axes = plt.subplots(figsize=(8,6))\n",
    "index = np.arange(n_groups)\n",
    "bar_width = 0.35\n",
    "opacity = 0.6\n",
    "error_config = {'ecolor': '0.3'}\n",
    "bars1 = plt.bar(index, e_logs['199'][Autoencoder.STR_SCORES][2], bar_width, alpha=opacity, color='b', error_kw=error_config, label='Elastic')\n",
    "bars2 = plt.bar(index + bar_width, e_logs['199'][Autoencoder.STR_SCORES][2], bar_width, alpha=opacity, color='r', error_kw=error_config, label='Compound')\n",
    "\n",
    "plt.xlabel('Digit Group')\n",
    "plt.ylabel('F1-Score')\n",
    "plt.title('F1-Scores on MNIST by Digit Groups and Method')\n",
    "plt.xticks(index + bar_width, ('0', '1', '2', '3', '4', '5', '6', '7', '8', '9'))\n",
    "plt.ylim([0.8,1.0])\n",
    "plt.legend()"
   ]
  }
 ],
 "metadata": {
  "kernelspec": {
   "display_name": "Python 2",
   "language": "python",
   "name": "python2"
  },
  "language_info": {
   "codemirror_mode": {
    "name": "ipython",
    "version": 2.0
   },
   "file_extension": ".py",
   "mimetype": "text/x-python",
   "name": "python",
   "nbconvert_exporter": "python",
   "pygments_lexer": "ipython2",
   "version": "2.7.9"
  }
 },
 "nbformat": 4,
 "nbformat_minor": 0
}